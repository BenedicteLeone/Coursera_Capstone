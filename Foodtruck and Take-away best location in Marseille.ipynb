{
    "cells": [
        {
            "cell_type": "markdown",
            "metadata": {
                "collapsed": true
            },
            "source": "# Battle of neighbourhood : best place to start a food-truck activity"
        },
        {
            "cell_type": "markdown",
            "metadata": {},
            "source": "## 1. Introduction"
        },
        {
            "cell_type": "markdown",
            "metadata": {},
            "source": "During the Covid pandemy, lockdown has heavily impacted how and where jobs are being performed. Facilities like restaurant and bars have been closed and only Drive-in or Food-truck are still allowed to pursuie their activity. \nIn this project, we'll take the role a new entrepreneurs who is looking after opening a Foodtruck in city of Marseille.  \nWe'll focus on 2 main features to choose the best place to settle and start this new activity.\n\na) companys : our primary customer are the workers still going to the office, and craving for food at lunch time.\nb) competitors : are there other drive-in in already identified in the same area/neighborhood.\n"
        },
        {
            "cell_type": "markdown",
            "metadata": {},
            "source": "## 2. Dataset"
        },
        {
            "cell_type": "markdown",
            "metadata": {},
            "source": "I will use the list of Neighborhood from Wikipedia, scraping an html page into a Panda dataframe to get a picture of the city.\nhttps://fr.wikipedia.org/wiki/Secteurs_et_arrondissements_de_Marseille"
        },
        {
            "cell_type": "markdown",
            "metadata": {},
            "source": "Then using Foursquare API, I will have a look at company implementation in the city and plot them on a map.\nThis will help to locate our target."
        },
        {
            "cell_type": "markdown",
            "metadata": {},
            "source": "Assuming that the lockdown is still in place, the main competitors are Drive-in and other Foodsqure in the same area. \nLet's have a look at their implementation by Neighborhood."
        },
        {
            "cell_type": "code",
            "execution_count": null,
            "metadata": {},
            "outputs": [],
            "source": ""
        }
    ],
    "metadata": {
        "kernelspec": {
            "display_name": "Python 3.6",
            "language": "python",
            "name": "python3"
        },
        "language_info": {
            "codemirror_mode": {
                "name": "ipython",
                "version": 3
            },
            "file_extension": ".py",
            "mimetype": "text/x-python",
            "name": "python",
            "nbconvert_exporter": "python",
            "pygments_lexer": "ipython3",
            "version": "3.6.9"
        }
    },
    "nbformat": 4,
    "nbformat_minor": 1
}